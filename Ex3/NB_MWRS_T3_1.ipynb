{
 "cells": [
  {
   "cell_type": "code",
   "execution_count": 1,
   "id": "bee0c1ac",
   "metadata": {},
   "outputs": [],
   "source": [
    "import numpy as np\n",
    "import matplotlib.pyplot as plt\n",
    "from scipy.stats import expon, rayleigh, gumbel_l, uniform\n",
    "import ipywidgets as widgets\n",
    "from ipywidgets import BoundedIntText\n",
    "from IPython.display import display, clear_output\n",
    "import scienceplots"
   ]
  },
  {
   "cell_type": "markdown",
   "id": "fe4ccd6ae1d44b54",
   "metadata": {
    "collapsed": false
   },
   "source": [
    "# Exercise 1: **Speckle**\n",
    "\n",
    "Visualize the concept of the Central Limit Theorem by using self-generated samples of random variables drawn from one or more arbitrary probability distributions (e.g. Exponential, Gumbel,\n",
    "Rayleigh, Uniform, Poisson, ...)\n"
   ]
  },
  {
   "cell_type": "markdown",
   "id": "9bc0f933",
   "metadata": {},
   "source": [
    "## 1.0 What is speckle\n",
    "\n",
    "-   In an observed pixel, multiple elementary scatterers exhibit the same amplitude but random phase in response to an incident electromagnetic wave\n",
    "-   The sensor combines these individual responses per pixel, giving rise to the phenomenon known as speckle = noisy looks\n"
   ]
  },
  {
   "cell_type": "markdown",
   "id": "bd3c2d7a",
   "metadata": {},
   "source": [
    "## 1.1 What is the main finding of the Central Limit Theorem?\n",
    "\n",
    "-   The distribution of the means of a large number of samples, that were independent and randomly selected from a population, approaches a normal (Gaussian) distribution\n",
    "-   This is regardless of the original distribution describing the populations\n"
   ]
  },
  {
   "cell_type": "markdown",
   "id": "77d0e51c",
   "metadata": {},
   "source": [
    "## 1.2 Why is it important for the interpretation of speckle?\n",
    "\n",
    "-   As numerous scatterers contribute to the observed signal, the CLT suggests that the distribution of the average signal tends to be normal\n",
    "-   Helps to characterize the variability of speckle patterns\n",
    "-   Can be used to fitler out speckle (statistical filter)\n"
   ]
  },
  {
   "cell_type": "markdown",
   "id": "4862255e",
   "metadata": {},
   "source": [
    "## 1.3 What constraints must the considered variables obey if their behavior is described within the concept of the Central Limit Theorem\n",
    "\n",
    "-   Variables need to be independent of each other (e.g. changes in amplitude $a_k$ and phase $\\phi_k$ of each phasor)\n",
    "    -   Phase changes are mot likely in the interval $\\phi_k \\in [-\\pi, \\pi]$\n",
    "-   Vaiables should be sampled randomly\n",
    "-   Each scatterer should be describable using the same porbability distribution\n",
    "    -   variables should be identically distributed\n"
   ]
  },
  {
   "cell_type": "markdown",
   "id": "83ad1ef5",
   "metadata": {},
   "source": [
    "## 1.4 How does the validity of the Central Limit Theorem depend on the sample size?\n",
    "\n",
    "-   The larger the sample size, the faster the distribution of means approaches a normal distribution\n",
    "-   The more often mean-samples are taken, the more precise the normal distribution becomes\n"
   ]
  },
  {
   "cell_type": "code",
   "execution_count": 2,
   "id": "50918d2ff3cdbf0e",
   "metadata": {
    "collapsed": false
   },
   "outputs": [],
   "source": [
    "def exp_distribution(N):\n",
    "    return expon.rvs(size=N)\n",
    "\n",
    "\n",
    "def ray_distribution(N):\n",
    "    return rayleigh.rvs(size=N)\n",
    "\n",
    "\n",
    "def gum_distribution(N):\n",
    "    return gumbel_l.rvs(size=N)\n",
    "\n",
    "\n",
    "def uni_distribution(N):\n",
    "    return uniform.rvs(size=N)\n",
    "\n",
    "\n",
    "def clt(N, mean, std_dev, iterations=100):\n",
    "    return [\n",
    "        np.mean(np.random.normal(mean, std_dev, N)) for _ in range(iterations)\n",
    "    ]\n",
    "\n",
    "\n",
    "def distribution_samples(distribution_func, N):\n",
    "    return distribution_func(N)\n",
    "\n",
    "\n",
    "def plot_histogram(ax, data, title):\n",
    "    ax.hist(data,\n",
    "            density=True,\n",
    "            bins='auto',\n",
    "            histtype='stepfilled',\n",
    "            alpha=0.8,\n",
    "            color='red',\n",
    "            edgecolor='white')\n",
    "\n",
    "    ax.set_yticks([])\n",
    "    ax.set_title(title)\n",
    "\n",
    "\n",
    "def update_data(sample_size, number_samples, N):\n",
    "    clear_output(wait=True)\n",
    "\n",
    "    distributions = [\n",
    "        exp_distribution, ray_distribution, gum_distribution, uni_distribution\n",
    "    ]\n",
    "    fig, axs = plt.subplots(4, 2, figsize=(12, 8), gridspec_kw={'hspace': 0.5})\n",
    "    axs = axs.flatten()\n",
    "\n",
    "    for i, dist_func in enumerate(distributions):\n",
    "        population = distribution_samples(dist_func, N)\n",
    "        plot_histogram(axs[i * 2], population,\n",
    "                       f'{dist_func.__name__} distribution function')\n",
    "\n",
    "        approx_distribution = clt(sample_size, np.mean(population),\n",
    "                                  np.std(population), number_samples)\n",
    "        plot_histogram(axs[i * 2 + 1], approx_distribution,\n",
    "                       'Approximated Normal Distribution')\n",
    "\n",
    "    plt.suptitle(\n",
    "        f'Distribution function with {N} continuous random variables and corresponding \\n'\n",
    "        f'distribution function with {number_samples} samples of size {sample_size}'\n",
    "    )\n",
    "    plt.show()"
   ]
  },
  {
   "cell_type": "code",
   "execution_count": 3,
   "id": "abaac777",
   "metadata": {},
   "outputs": [
    {
     "data": {
      "application/vnd.jupyter.widget-view+json": {
       "model_id": "d824b97de4a64706abf7dee6679b0b6f",
       "version_major": 2,
       "version_minor": 0
      },
      "text/plain": [
       "Output()"
      ]
     },
     "metadata": {},
     "output_type": "display_data"
    },
    {
     "data": {
      "application/vnd.jupyter.widget-view+json": {
       "model_id": "dfd95017a7ad428ba61ab597b0cf52e7",
       "version_major": 2,
       "version_minor": 0
      },
      "text/plain": [
       "HBox(children=(VBox(children=(BoundedIntText(value=100, description='Number of samples', max=1000000, step=100…"
      ]
     },
     "metadata": {},
     "output_type": "display_data"
    }
   ],
   "source": [
    "num_samp = widgets.BoundedIntText(min=0,\n",
    "                                  max=1_000_000,\n",
    "                                  step=100,\n",
    "                                  description=\"Number of samples\",\n",
    "                                  value=100)\n",
    "siz_samp = widgets.BoundedIntText(min=0,\n",
    "                                  max=1_000,\n",
    "                                  step=10,\n",
    "                                  description=\"Sample size\",\n",
    "                                  value=500)\n",
    "num_dist = widgets.BoundedIntText(min=0,\n",
    "                                  max=1_000_000,\n",
    "                                  step=100,\n",
    "                                  description=\"Distribution size\",\n",
    "                                  value=10_000)\n",
    "\n",
    "ui = widgets.HBox([widgets.VBox([num_samp, siz_samp, num_dist])])\n",
    "out = widgets.interactive_output(update_data, {\n",
    "    'sample_size': siz_samp,\n",
    "    'number_samples': num_samp,\n",
    "    'N': num_dist\n",
    "})\n",
    "\n",
    "display(out, ui)\n"
   ]
  },
  {
   "cell_type": "code",
   "execution_count": null,
   "id": "f6e56fc9",
   "metadata": {},
   "outputs": [],
   "source": []
  }
 ],
 "metadata": {
  "kernelspec": {
   "display_name": "Python 3",
   "language": "python",
   "name": "python3"
  },
  "language_info": {
   "codemirror_mode": {
    "name": "ipython",
    "version": 3
   },
   "file_extension": ".py",
   "mimetype": "text/x-python",
   "name": "python",
   "nbconvert_exporter": "python",
   "pygments_lexer": "ipython3",
   "version": "3.11.6"
  }
 },
 "nbformat": 4,
 "nbformat_minor": 5
}
