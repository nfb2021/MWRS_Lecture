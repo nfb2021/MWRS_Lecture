{
 "cells": [
  {
   "cell_type": "code",
   "execution_count": 1,
   "metadata": {},
   "outputs": [],
   "source": [
    "import numpy as np\n",
    "import matplotlib.pyplot as plt\n",
    "from matplotlib.ticker import ScalarFormatter\n",
    "from ipywidgets import interact, FloatSlider, Label\n",
    "from shapely.geometry import Point\n",
    "from shapely.plotting import plot_polygon"
   ]
  },
  {
   "cell_type": "markdown",
   "metadata": {},
   "source": [
    "# Exercise 4: **Frequency Modulated Radar**\n",
    "\n",
    "*Visualize and explain the operation of a frequency-modulated radar.*\n",
    "\n",
    "## *How does a FM-Radar (in principle) work?*\n",
    "\n",
    "The frequency modulated Radar belongs to the family of ranging radars and side looking radars. The basic idea is, that instead of sending a stream of temporally limited pulses, a continuous signal is sent, which gets modulated in its freuency with a given modulation pattern. One such modualtion could be a triangular wave pattern, according to which the frequencies are changed contoniusly. \n",
    "\n",
    "$f\\left(t, f_1, f_2\\right) = \\dfrac{\\left|f_1 - f_2\\right|}{2} \\cdot \\dfrac{2}{\\pi} \\arcsin\\left(\\sin\\left(2\\pi f_{T} t\\right)\\right) + f_1 \\dfrac{\\left|f_1 - f_2\\right|}{2}$\n",
    "\n",
    "where $t$ is the time, $f_1$ and $f_2$ the cutoff frequencies of the bandwidth and $f_T$ the frequency of the triangular wave (sweep time $t_R = f_T^{-1}$).\n",
    "\n",
    "Therefore,\n",
    "\n",
    "$f\\left(t\\right) = \\dfrac{B}{\\pi} \\arcsin\\left(\\sin\\left(2\\pi f_{T} t\\right)\\right) + f_1 \\dfrac{B}{2}$\n",
    "\n",
    "\n",
    "The echo will return after a time $\\tilde{t} = \\dfrac{2R}{v}$, depending on the propagation velocity $v$ and the distance between satellite sensor and target $R$. When a signal is received, because the modualtion of the transmitted signal is known, comparing the frequency offset between both can be related to the distance the signal propagated. \n",
    "\n",
    "The frequency offset between transmitted and received signal $\\Delta f$ is given as (assuming the signal started transmitting at $t=0$ and that the echo arrives within the first quarter of the triangular waveform):\n",
    "\n",
    "$\\Delta f = f\\left(\\tilde{t}\\right) - f\\left(t=0\\right) = 2B\\dfrac{\\tilde{t}}{t_R} = \\dfrac{4BR}{t_Rv}$\n",
    "\n",
    "Thus, the distance $R$ can be expressed as a function of the frequency offset betwenn transmitted and received signal $\\Delta f$:\n",
    "\n",
    "$R = \\dfrac{t_{R}v}{4B}\\cdot \\Delta f$\n",
    "\n",
    "\n",
    "*Note: Even if not mentioned explicitly in the lecture, the maximum distance detectable reliably depends on the modulation pattern and if a single pattern is used repeatadly or not. As the modulation pattern consists of a upwards and downwards sweep of frequencies, most frequencies are visited twice. Independent of the shape of the modulation. Thus, when comparing the received signal to a transmited one, at least two points in time of both signals have to be sampled (to determine if one is within the up- or downsweep). The approach presented above is thus only valid for some cases and does not hold true in general.*\n",
    "\n",
    "## *What is the main quantity governing the resolution of a FM-Radar?*\n",
    "The bandwidth of the transmitted signal determines the resolution obtainable. Though, underlying technical limitations are probably even more important. One such limitation could be the sensors ability to change between two frequencies during the sweeping. If this changig time it too long, a drop in resolution is to be expected.\n",
    "\n",
    "## *How does an FM-Radar diﬀer from an ordinary Pulse-Radar?*\n",
    "\n",
    "An ordinary pulse Radar transmits pulses at such an offset in time, that in between two pulses the echo can be received. The FM-Radar transmits continously. \n"
   ]
  },
  {
   "cell_type": "code",
   "execution_count": 2,
   "metadata": {},
   "outputs": [],
   "source": [
    "F1 = 0.3    #GHz\n",
    "F2 = 1      #GHz\n",
    "R = 800     #km"
   ]
  },
  {
   "cell_type": "code",
   "execution_count": 3,
   "metadata": {},
   "outputs": [],
   "source": [
    "def triangular_pattern(frequency, f1, f2, num_cycles, num_samples = 1000, delay_time = 0):\n",
    "    amplitude = (f2 - f1) / 2\n",
    "    t = np.linspace(0, num_cycles * 2 * np.pi / frequency, num_samples, endpoint=False)\n",
    "    triangular_wave = amplitude * (2 / np.pi) * np.arcsin(np.sin(2 * np.pi * frequency * t)) + (f1 + amplitude)\n",
    "    padding = [np.nan for dt in range(delay_time)]\n",
    "    triangular_wave = padding + list(triangular_wave)\n",
    "    return t, triangular_wave[ : len(t)]"
   ]
  },
  {
   "cell_type": "code",
   "execution_count": 4,
   "metadata": {},
   "outputs": [
    {
     "data": {
      "application/vnd.jupyter.widget-view+json": {
       "model_id": "9af938adcf2a4842a3361dc0e425538e",
       "version_major": 2,
       "version_minor": 0
      },
      "text/plain": [
       "interactive(children=(FloatSlider(value=0.3, description='f_1 [GHz]:', max=0.5, min=0.01, step=0.01), FloatSli…"
      ]
     },
     "metadata": {},
     "output_type": "display_data"
    }
   ],
   "source": [
    "f1_slider = FloatSlider(value = F1, min = 0.01, max = 0.5, step = 0.01, description = 'f_1 [GHz]:')\n",
    "f2_slider = FloatSlider(value=F2, min=0.6, max=1.5, step=0.1, description = 'f_2 [GHz]:')\n",
    "r_slider = FloatSlider(value=23, min=0, max=70, step=1, description='R [a.u.]:')\n",
    "f_sweep = FloatSlider(value=2, min=1, max=4, step=0.1, description='sweep frequency [a.u.]:')\n",
    "\n",
    "@interact(f1 = f1_slider, f2 = f2_slider, r = r_slider, frequency = f_sweep)\n",
    "def update(f1, f2, r, frequency):\n",
    "    fig = plt.figure(figsize = (14, 6))\n",
    "    ax0 = fig.add_subplot(111)\n",
    "    tt, transmitted = triangular_pattern(frequency=frequency, f1 =f1, f2 =f2, num_cycles=0.5)\n",
    "    tr, received = triangular_pattern(frequency =frequency, f1 = f1, f2 =f2, num_cycles=0.5, delay_time = int(r))\n",
    "    ax0.plot(tt, transmitted, linewidth = 2, color = 'black', label = 'transmitted signal')\n",
    "    ax0.plot(tr, received, linewidth = 2, color = 'red', label = 'received signal')\n",
    "    ax0.set_ylim(0.01, 1.5)\n",
    "    ax0.set_xlim(-0.03, 0.7)\n",
    "\n",
    "    ax0.set_ylabel('Frequency [GHz]', fontsize = 12)\n",
    "    ax0.set_xlabel('Time [a.u.]', fontsize = 12)\n",
    "\n",
    "    delta_f = np.abs(transmitted[int(r)] - received[int(r)])\n",
    "    ax0.set_title(f'B={np.abs(f1-f2):.2f}GHz, f1 = {f1:.2f}GHz, f2 = {f2:.2f}GHz, T_R = {(1/frequency):.2f}a.u.,\\nR = {r:.2f}[a.u.] corresponding to delta_f = {delta_f:.2f}GHz', fontsize = 16)\n",
    "    \n",
    "    ax0.plot([tt[int(r)], tt[int(r)]], [transmitted[int(r)], received[int(r)]], linestyle = 'dotted', linewidth = 2, color = 'blue', label = r'$\\Delta f = $' + f'{delta_f:.2f}GHz')\n",
    "\n",
    "\n",
    "    plt.legend()\n",
    "\n"
   ]
  }
 ],
 "metadata": {
  "kernelspec": {
   "display_name": "MWRS",
   "language": "python",
   "name": "python3"
  },
  "language_info": {
   "codemirror_mode": {
    "name": "ipython",
    "version": 3
   },
   "file_extension": ".py",
   "mimetype": "text/x-python",
   "name": "python",
   "nbconvert_exporter": "python",
   "pygments_lexer": "ipython3",
   "version": "3.11.6"
  }
 },
 "nbformat": 4,
 "nbformat_minor": 2
}
