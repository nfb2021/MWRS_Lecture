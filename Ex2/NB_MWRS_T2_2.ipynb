{
 "cells": [
  {
   "cell_type": "code",
   "execution_count": 37,
   "metadata": {},
   "outputs": [],
   "source": [
    "import numpy as np\n",
    "import matplotlib.pyplot as plt\n",
    "from typing import Optional, List\n",
    "from shapely.geometry import Point, LineString, Polygon\n",
    "from ipywidgets import interact, FloatSlider, Label\n",
    "import scienceplots"
   ]
  },
  {
   "cell_type": "markdown",
   "metadata": {},
   "source": [
    "# Exercise 2: **Synthetic Aperture Radar**\n",
    "\n",
    "*Explain and visualize the frequency shift of a target as seen by a Synthetic Aperture Radar as it moves across its footprint.*\n",
    "\n",
    "## *How does a SAR-system work?*\n",
    "\n",
    "SAR offer a high spatial resolution through employin chirps, but at the cost of temporal resolution (low temporal revisit). As the satellite propagates along its track, contoniusly collecting information about the ground, a potential target will be captured in mutliple received signals. This is due to consecutive footprints overlapping. \n",
    "This basically translates into an antenna array along the satellite track. Digitally combining these antennas of real aperture results in a synthetic antenna of much larger (synthetic) aperture and thus resolution. Employing Doppler-shift processing, sub-pixel features can be identified by analyzing the combined received \"synthetic\" signal.\n",
    "\n",
    "## *Which parameters inﬂuence the induced frequency-shift?*\n",
    "\n",
    "If the moving SAR receives a signal from a target located ahead in the foorprint, relative to the SAR's current position, this signal is blue-shifted. Vide versa, a sginal stemming from a target from the opposite direction experiences a red-shift.\n",
    "\n",
    "The change in frequency can be written as:\n",
    "\n",
    "$f_v = f_0 - \\dfrac{v_{rel}}{\\lambda} = f_0 - \\dfrac{v^2t}{R\\lambda}$ \n",
    "\n",
    "Here, $f_0$ is the frequency of the transmitted signal, $\\lambda$ its wavelength, $v$ the propagation velocity of the satellite and $R$ the slant range.\n",
    "Thus, mainly the propagation velocity of the satellite contributes to the Doppler shift.\n",
    "\n",
    "## *What are the beneﬁts of a SAR-system compared to a real-aperture radar?*\n",
    "\n",
    "First and foremost, sufficiently high resolution with a real-aperture antenna can only be achieved with large antenna/aperture sizes. SAR bets on smaller hardware, thus saving on weight and cost.\n",
    "\n",
    "## *How does the ground resolution of a SAR-system relate to the ﬂying height and the antenna size, as opposed to real-aperture antennas?*\n",
    "\n",
    "For a real-aperture antenna, the azimuthal resolution was given as a function of the satellite's altitude, polar angle and antenna size:\n",
    "\n",
    "$r_{a, real}\\left(R, l\\right)\\approx R\\dfrac{\\lambda}{l} \\approx \\dfrac{H\\lambda}{l}\\tan\\left(\\theta\\right)$\n",
    "\n",
    "For a SAR, the azimuthal resolution is:\n",
    "\n",
    "$r_{a, SAR}\\left(l\\right) = \\dfrac{l}{2}$\n",
    "\n",
    "Comparing the resolutions reveals, that while a real-aperture antenna either needs to fly very low or have a large antenna to minimize its azimuthal resolution. For SAR on the other hand, the azimuthal resolution is independent of altitude and actually gets better, the smaller the antenna.\n",
    "\n",
    "## *(optional bonus-question) What do we mean by focused/unfocused SAR?*\n",
    "\n"
   ]
  },
  {
   "cell_type": "code",
   "execution_count": 44,
   "metadata": {},
   "outputs": [],
   "source": [
    "SPEED_OF_LIGHT = 299792458 # m/s\n",
    "def rel_freq(freq_0: float, velocity: float, distance: float, time: float) -> float:\n",
    "    return freq_0 - ((velocity * velocity  * time) / (distance * (SPEED_OF_LIGHT / freq_0)))"
   ]
  },
  {
   "cell_type": "code",
   "execution_count": 89,
   "metadata": {},
   "outputs": [
    {
     "data": {
      "application/vnd.jupyter.widget-view+json": {
       "model_id": "3f315f185e644d3a88e478dfcf089759",
       "version_major": 2,
       "version_minor": 0
      },
      "text/plain": [
       "interactive(children=(FloatSlider(value=0.0, description='t [s]', max=1000000.0, step=1.0), FloatSlider(value=…"
      ]
     },
     "metadata": {},
     "output_type": "display_data"
    }
   ],
   "source": [
    "\n",
    "freq_0_init = 7       # GHz\n",
    "velocity_init = 6       # km/s\n",
    "distance_init = 800     # km\n",
    "\n",
    "# velocity_slider = FloatSlider(min=6, max=10, step=0.1, value=velocity_init, description='v [km/s]')\n",
    "freq_0_slider = FloatSlider(min=0.1, max=10, step=0.1, value=freq_0_init, description='nu_0 [GHz]')\n",
    "distance_slider = FloatSlider(min=200, max=1000, step=100, value=distance_init, description='R [km]')\n",
    "time_slider = FloatSlider(min=0, max=1e6, step=1, value=0, description='t [s]')\n",
    "\n",
    "@interact(time=time_slider, freq_0=freq_0_slider, distance=distance_slider)\n",
    "def update(time, freq_0, distance):\n",
    "    velocity = np.linspace(-10, 10, 1000)\n",
    "    velocity *= 1e3\n",
    "    # print(velocity)\n",
    "    freq_0 *= 1e9\n",
    "    distance *= 1e3\n",
    "\n",
    "    fig = plt.figure(figsize=(10, 6))\n",
    "    ax = fig.add_subplot(111)\n",
    "    ax.set_title(r'Relative frequency shift: $\\nu_v = \\nu_0 - \\dfrac{v^2 t}{R\\lambda}$' + '\\n', fontsize = 16)\n",
    "    ax.set_xlabel('Velocity v [km/s]', fontsize = 12)\n",
    "    ax.set_ylabel(r'Relative frequency $\\nu_v$ [GHz]', fontsize = 12)\n",
    "\n",
    "    ax.plot(velocity, rel_freq(freq_0, velocity, distance, time) / 1e9, linewidth = 2, color = 'black',label = r'$\\nu_v$ with $\\nu_0 = $' + f'{(freq_0 / 1e9):.2f}' + ' GHz, ' + r'$R = $' + str(distance / 1e3) + ' km, ' + r'$t = $' + f'{time:.2e}' + ' s')\n",
    "    ax.plot(velocity, [freq_0 / 1e9 for i in velocity], linewidth = 2, color = 'grey', linestyle = 'dashed',label = r'$\\nu_0$')\n",
    "    ax.tick_params(axis='both', direction='in', left = True, bottom = True, top = True, right=True)\n",
    "    ax.set_ylim(0, 10.2)\n",
    "\n",
    "    plt.legend(fontsize = 12)\n",
    "    plt.tight_layout()\n"
   ]
  },
  {
   "cell_type": "code",
   "execution_count": 90,
   "metadata": {},
   "outputs": [
    {
     "data": {
      "application/vnd.jupyter.widget-view+json": {
       "model_id": "bc68e52b5e894b19bfe3b03f580fc0a6",
       "version_major": 2,
       "version_minor": 0
      },
      "text/plain": [
       "interactive(children=(FloatSlider(value=-1.0, description='t [a.u.]', min=-1.0, step=1.0), FloatSlider(value=1…"
      ]
     },
     "metadata": {},
     "output_type": "display_data"
    }
   ],
   "source": [
    "limit = 100\n",
    "center_list = [i for i in range(limit)]\n",
    "radii = [0 for i in center_list]\n",
    "# print(radii)\n",
    "time_slider = FloatSlider(value=-1, min=-1, max=limit, step=1, description=r't [a.u.]')\n",
    "wave_propagation_velocity = FloatSlider(value=1, min=0, max=2, step=0.1, description=r'v_w/v_s')\n",
    "\n",
    "@interact(t = time_slider, v = wave_propagation_velocity)\n",
    "def update(t, v):\n",
    "    fig = plt.figure(figsize = (16, 9))\n",
    "    ax = fig.add_subplot(111)\n",
    "\n",
    "    for idx in range(int(t) + 1):\n",
    "        radii[idx] += v\n",
    "\n",
    "    inner_radius = 0.01\n",
    "    for idx, (outer_radius, center )in enumerate(zip(radii, center_list)):\n",
    "        center_point = Point(center, 0)\n",
    "\n",
    "        outer_circle = center_point.buffer(outer_radius)\n",
    "        inner_circle = center_point.buffer(inner_radius)\n",
    "\n",
    "        ring = outer_circle.difference(inner_circle)\n",
    "        x, y = ring.exterior.xy\n",
    "        if idx == 0:\n",
    "            ax.plot(x, y, color = 'grey', label = 'Signal')\n",
    "        else:\n",
    "            ax.plot(x, y, color = 'grey')\n",
    "\n",
    "        \n",
    "    ax.plot(t, 0, linestyle = 'None', marker = 'o', color = 'black', label = 'Satellite')\n",
    "    ax.set_aspect('equal')\n",
    "    ax.set_title(f'Non-Scientific Sketch of Doppler Effect for a moving source:\\nsignal propagation velocity = {v} * satellite velocity', fontsize = 16)\n",
    "    ax.set_xlabel('Position [a.u.]', fontsize = 12)\n",
    "    ax.set_ylabel('Position [a.u.]', fontsize = 12)\n",
    "    ax.legend(loc = 'upper right')\n",
    "    ax.set_xlim(-10, 60)\n",
    "    ax.set_ylim(-5, 5)\n",
    "\n",
    "    ax.set_xticklabels([])\n",
    "    ax.set_yticklabels([])\n",
    "\n",
    "    ax.tick_params(axis='both', direction='in', left = True, bottom = True, top = True, right=True)\n",
    "    \n"
   ]
  },
  {
   "cell_type": "code",
   "execution_count": null,
   "metadata": {},
   "outputs": [],
   "source": []
  }
 ],
 "metadata": {
  "kernelspec": {
   "display_name": "MWRS",
   "language": "python",
   "name": "python3"
  },
  "language_info": {
   "codemirror_mode": {
    "name": "ipython",
    "version": 3
   },
   "file_extension": ".py",
   "mimetype": "text/x-python",
   "name": "python",
   "nbconvert_exporter": "python",
   "pygments_lexer": "ipython3",
   "version": "3.11.6"
  }
 },
 "nbformat": 4,
 "nbformat_minor": 2
}
