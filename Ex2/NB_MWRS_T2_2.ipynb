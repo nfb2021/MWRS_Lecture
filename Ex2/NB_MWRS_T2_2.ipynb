{
 "cells": [
  {
   "cell_type": "code",
   "execution_count": 1,
   "metadata": {},
   "outputs": [],
   "source": [
    "import numpy as np\n",
    "import matplotlib.pyplot as plt\n",
    "from typing import Optional, List\n",
    "from shapely.geometry import Point, LineString\n",
    "from ipywidgets import interact, FloatSlider, Label\n",
    "import scienceplots"
   ]
  },
  {
   "cell_type": "markdown",
   "metadata": {},
   "source": [
    "# Exercise 2: **Synthetic Aperture Radar**\n",
    "\n",
    "*Explain and visualize the frequency shift of a target as seen by a Synthetic Aperture Radar as it moves across its footprint.*\n",
    "\n",
    "## *How does a SAR-system work?*\n",
    "\n",
    "SAR offer a high spatial resolution through employin chirps, but at the cost of temporal resolution (low temporal revisit). As the satellite propagates along its track, contoniusly collecting information about the ground, a potential target will be captured in mutliple received signals. This is due to consecutive footprints overlapping. \n",
    "This basically translates into an antenna array along the satellite track. Digitally combining these antennas of real aperture results in a synthetic antenna of much larger (synthetic) aperture and thus resolution. Employing Doppler-shift processing, sub-pixel features can be identified by analyzing the combined received \"synthetic\" signal.\n",
    "\n",
    "## *Which parameters inﬂuence the induced frequency-shift?*\n",
    "\n",
    "If the moving SAR receives a signal from a target located ahead in the foorprint, relative to the SAR's current position, this signal is blue-shifted. Vide versa, a sginal stemming from a target from the opposite direction experiences a red-shift.\n",
    "\n",
    "The change in frequency can be written as:\n",
    "\n",
    "$f_v = f_0 - \\dfrac{v_{rel}}{\\lambda} = f_0 - \\dfrac{v^2t}{R\\lambda}$ \n",
    "\n",
    "Here, $f_0$ is the frequency of the transmitted signal, $\\lambda$ its wavelength, $v$ the propagation velocity of the satellite and $R$ the slant range.\n",
    "Thus, mainly the propagation velocity of the satellite contributes to the Doppler shift.\n",
    "\n",
    "## *What are the beneﬁts of a SAR-system compared to a real-aperture radar?*\n",
    "\n",
    "First and foremost, sufficiently high resolution with a real-aperture antenna can only be achieved with large antenna/aperture sizes. SAR bets on smaller hardware, thus saving on weight and cost.\n",
    "\n",
    "## *How does the ground resolution of a SAR-system relate to the ﬂying height and the antenna size, as opposed to real-aperture antennas?*\n",
    "\n",
    "For a real-aperture antenna, the azimuthal resolution was given as a function of the satellite's altitude, polar angle and antenna size:\n",
    "\n",
    "$r_{a, real}\\left(R, l\\right)\\approx R\\dfrac{\\lambda}{l} \\approx \\dfrac{H\\lambda}{l}\\tan\\left(\\theta\\right)$\n",
    "\n",
    "For a SAR, the azimuthal resolution is:\n",
    "\n",
    "$r_{a, SAR}\\left(l\\right) = \\dfrac{l}{2}$\n",
    "\n",
    "Comparing the resolutions reveals, that while a real-aperture antenna either needs to fly very low or have a large antenna to minimize its azimuthal resolution. For SAR on the other hand, the azimuthal resolution is independent of altitude and actually gets better, the smaller the antenna.\n",
    "\n",
    "## *(optional bonus-question) What do we mean by focused/unfocused SAR?*\n",
    "\n"
   ]
  },
  {
   "cell_type": "code",
   "execution_count": 4,
   "metadata": {},
   "outputs": [
    {
     "data": {
      "application/vnd.jupyter.widget-view+json": {
       "model_id": "10db6dbbd42d4d3ba026a8cfac0fea5e",
       "version_major": 2,
       "version_minor": 0
      },
      "text/plain": [
       "interactive(children=(FloatSlider(value=0.0, description='t [a.u.]', step=1.0), Output()), _dom_classes=('widg…"
      ]
     },
     "metadata": {},
     "output_type": "display_data"
    }
   ],
   "source": [
    "from shapely.geometry import Point, Polygon\n",
    "import matplotlib.pyplot as plt\n",
    "import time\n",
    "\n",
    "# def dynamic_circles(center, vanish_radius = 10):\n",
    "    \n",
    "limit = 100\n",
    "center_list = np.linspace(0, limit + 1, limit)\n",
    "radii = [0 for i in center_list]\n",
    "# print(radii)\n",
    "time_slider = FloatSlider(value=0, min=0, max=limit, step=1, description=r't [a.u.]')\n",
    "\n",
    "@interact(t = time_slider)\n",
    "def update(t):\n",
    "    fig, ax = plt.subplots()\n",
    "\n",
    "    # Define the coordinates and radius for the outer and inner circles\n",
    "    if t.is_integer():\n",
    "        # print(radii)\n",
    "        for idx in range(int(t) + 1):\n",
    "            radii[idx] += 1\n",
    "            # radius_list.(radius_list[-1] + 1.2)\n",
    "\n",
    "        inner_radius = 0.01\n",
    "        for outer_radius, center in zip(radii, center_list):\n",
    "            center_point = Point(center, 0)\n",
    "\n",
    "            # Create circles using buffer to represent outer and inner circles\n",
    "            outer_circle = center_point.buffer(outer_radius)\n",
    "            inner_circle = center_point.buffer(inner_radius)\n",
    "\n",
    "            # Create a ring by taking the difference between the outer and inner circles\n",
    "            ring = outer_circle.difference(inner_circle)\n",
    "\n",
    "            # Extract x and y coordinates for plotting\n",
    "            x, y = ring.exterior.xy\n",
    "            ax.plot(x, y, color = 'grey')\n",
    "\n",
    "    # Plot the ring using Matplotlib\n",
    "    \n",
    "    ax.plot(t, 0, linestyle = 'None', marker = 'o', color = 'black')\n",
    "    ax.set_aspect('equal')\n",
    "    ax.set_title('Ring Representation')\n",
    "    ax.set_xlabel('X-axis')\n",
    "    ax.set_ylabel('Y-axis')\n",
    "    ax.set_xlim(-10, 20)\n",
    "    \n",
    "    ax.set_ylim(-5, 5)\n"
   ]
  },
  {
   "cell_type": "code",
   "execution_count": 3,
   "metadata": {},
   "outputs": [
    {
     "name": "stdout",
     "output_type": "stream",
     "text": [
      "Floats that are integers: [1.0, 3.0, 5.0]\n"
     ]
    }
   ],
   "source": [
    "# Example list of floats\n",
    "float_list = [1.0, 2.5, 3.0, 4.7, 5.0]\n",
    "\n",
    "# Using list comprehension to find floats that are integers\n",
    "integers = [x for x in float_list if x.is_integer()]\n",
    "\n",
    "print(\"Floats that are integers:\", integers)\n"
   ]
  },
  {
   "cell_type": "code",
   "execution_count": null,
   "metadata": {},
   "outputs": [],
   "source": []
  }
 ],
 "metadata": {
  "kernelspec": {
   "display_name": "MWRS",
   "language": "python",
   "name": "python3"
  },
  "language_info": {
   "codemirror_mode": {
    "name": "ipython",
    "version": 3
   },
   "file_extension": ".py",
   "mimetype": "text/x-python",
   "name": "python",
   "nbconvert_exporter": "python",
   "pygments_lexer": "ipython3",
   "version": "3.11.5"
  }
 },
 "nbformat": 4,
 "nbformat_minor": 2
}
